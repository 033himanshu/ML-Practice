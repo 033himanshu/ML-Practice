{
 "cells": [
  {
   "cell_type": "code",
   "execution_count": 2,
   "id": "2fbed661",
   "metadata": {},
   "outputs": [],
   "source": [
    "import numpy as np"
   ]
  },
  {
   "cell_type": "code",
   "execution_count": 63,
   "id": "465b4052",
   "metadata": {},
   "outputs": [
    {
     "name": "stdout",
     "output_type": "stream",
     "text": [
      "<class 'list'> [1, 2, 3]\n",
      "<class 'numpy.ndarray'> [1 2 3]\n",
      "<class 'numpy.ndarray'> [1 2 3 1 2 3 1 2 3]\n"
     ]
    }
   ],
   "source": [
    "a=[1,2,3]\n",
    "b=np.array(a)\n",
    "c=np.array(a*3)\n",
    "print(type(a),a)\n",
    "print(type(b),b)\n",
    "print(type(c),c)"
   ]
  },
  {
   "cell_type": "code",
   "execution_count": 64,
   "id": "d3ee1eba",
   "metadata": {},
   "outputs": [
    {
     "name": "stdout",
     "output_type": "stream",
     "text": [
      "[1 1 1]\n"
     ]
    }
   ],
   "source": [
    "b=np.ones(3,dtype=int)\n",
    "print(b)"
   ]
  },
  {
   "cell_type": "code",
   "execution_count": 65,
   "id": "e8fbb5fa",
   "metadata": {},
   "outputs": [
    {
     "name": "stdout",
     "output_type": "stream",
     "text": [
      "[0. 0. 0. 0.]\n"
     ]
    }
   ],
   "source": [
    "b=np.zeros(4,dtype=float)\n",
    "print(b)"
   ]
  },
  {
   "cell_type": "code",
   "execution_count": 66,
   "id": "9dfcafab",
   "metadata": {},
   "outputs": [
    {
     "name": "stdout",
     "output_type": "stream",
     "text": [
      "[[0. 0. 0. 0.]\n",
      " [0. 0. 0. 0.]\n",
      " [0. 0. 0. 0.]]\n"
     ]
    }
   ],
   "source": [
    "b=np.zeros((3,4))\n",
    "print(b)"
   ]
  },
  {
   "cell_type": "code",
   "execution_count": 67,
   "id": "3e9f8d12",
   "metadata": {},
   "outputs": [
    {
     "name": "stdout",
     "output_type": "stream",
     "text": [
      "[[5. 5. 5.]\n",
      " [5. 5. 5.]\n",
      " [5. 5. 5.]]\n"
     ]
    }
   ],
   "source": [
    "b=np.full((3,3),5,dtype=float)\n",
    "print(b)"
   ]
  },
  {
   "cell_type": "code",
   "execution_count": 68,
   "id": "3bee154c",
   "metadata": {},
   "outputs": [
    {
     "name": "stdout",
     "output_type": "stream",
     "text": [
      "[0 0 0 0 1 0 0 0 0 0]\n"
     ]
    }
   ],
   "source": [
    "b=np.full(10,0,dtype=int)\n",
    "b[4]=1\n",
    "print(b)"
   ]
  },
  {
   "cell_type": "code",
   "execution_count": 69,
   "id": "c47e209f",
   "metadata": {},
   "outputs": [
    {
     "name": "stdout",
     "output_type": "stream",
     "text": [
      "[0 1 2 3 4 5 6 7 8 9]\n"
     ]
    }
   ],
   "source": [
    "b=np.arange(10)\n",
    "print(b)"
   ]
  },
  {
   "cell_type": "code",
   "execution_count": 70,
   "id": "e1047e51",
   "metadata": {},
   "outputs": [
    {
     "data": {
      "text/plain": [
       "array([5, 0, 4, 0])"
      ]
     },
     "execution_count": 70,
     "metadata": {},
     "output_type": "execute_result"
    }
   ],
   "source": [
    "np.empty(4,dtype=int)"
   ]
  },
  {
   "cell_type": "code",
   "execution_count": 71,
   "id": "b5872710",
   "metadata": {},
   "outputs": [
    {
     "data": {
      "text/plain": [
       "array([[1, 2, 3],\n",
       "       [4, 5, 6],\n",
       "       [7, 8, 9]])"
      ]
     },
     "execution_count": 71,
     "metadata": {},
     "output_type": "execute_result"
    }
   ],
   "source": [
    "np.array([[1,2,3],[4,5,6],[7,8,9]])"
   ]
  },
  {
   "cell_type": "code",
   "execution_count": 72,
   "id": "6df07037",
   "metadata": {},
   "outputs": [
    {
     "name": "stdout",
     "output_type": "stream",
     "text": [
      "[3 3]\n"
     ]
    }
   ],
   "source": [
    "b=np.array((3,3))\n",
    "print(b)"
   ]
  },
  {
   "cell_type": "code",
   "execution_count": 73,
   "id": "53512578",
   "metadata": {},
   "outputs": [
    {
     "data": {
      "text/plain": [
       "array([ 2,  5,  8, 11, 14, 17, 20, 23, 26, 29])"
      ]
     },
     "execution_count": 73,
     "metadata": {},
     "output_type": "execute_result"
    }
   ],
   "source": [
    "np.arange(2,30,3)"
   ]
  },
  {
   "cell_type": "code",
   "execution_count": 74,
   "id": "e4d7256f",
   "metadata": {},
   "outputs": [
    {
     "data": {
      "text/plain": [
       "array([ 3.        ,  3.85714286,  4.71428571,  5.57142857,  6.42857143,\n",
       "        7.28571429,  8.14285714,  9.        ,  9.85714286, 10.71428571,\n",
       "       11.57142857, 12.42857143, 13.28571429, 14.14285714, 15.        ,\n",
       "       15.85714286, 16.71428571, 17.57142857, 18.42857143, 19.28571429,\n",
       "       20.14285714, 21.        , 21.85714286, 22.71428571, 23.57142857,\n",
       "       24.42857143, 25.28571429, 26.14285714, 27.        , 27.85714286,\n",
       "       28.71428571, 29.57142857, 30.42857143, 31.28571429, 32.14285714,\n",
       "       33.        , 33.85714286, 34.71428571, 35.57142857, 36.42857143,\n",
       "       37.28571429, 38.14285714, 39.        , 39.85714286, 40.71428571,\n",
       "       41.57142857, 42.42857143, 43.28571429, 44.14285714, 45.        ])"
      ]
     },
     "execution_count": 74,
     "metadata": {},
     "output_type": "execute_result"
    }
   ],
   "source": [
    "np.linspace(3,45)"
   ]
  },
  {
   "cell_type": "code",
   "execution_count": 75,
   "id": "7ab5009c",
   "metadata": {},
   "outputs": [
    {
     "data": {
      "text/plain": [
       "array([ 3.        ,  5.21052632,  7.42105263,  9.63157895, 11.84210526,\n",
       "       14.05263158, 16.26315789, 18.47368421, 20.68421053, 22.89473684,\n",
       "       25.10526316, 27.31578947, 29.52631579, 31.73684211, 33.94736842,\n",
       "       36.15789474, 38.36842105, 40.57894737, 42.78947368, 45.        ])"
      ]
     },
     "execution_count": 75,
     "metadata": {},
     "output_type": "execute_result"
    }
   ],
   "source": [
    "np.linspace(3,45,20)"
   ]
  },
  {
   "cell_type": "code",
   "execution_count": 76,
   "id": "9ea44706",
   "metadata": {},
   "outputs": [
    {
     "data": {
      "text/plain": [
       "array([[1., 0., 0.],\n",
       "       [0., 1., 0.],\n",
       "       [0., 0., 1.]])"
      ]
     },
     "execution_count": 76,
     "metadata": {},
     "output_type": "execute_result"
    }
   ],
   "source": [
    "np.identity(3)"
   ]
  },
  {
   "cell_type": "code",
   "execution_count": 77,
   "id": "368dfcec",
   "metadata": {},
   "outputs": [
    {
     "data": {
      "text/plain": [
       "array([[1., 0., 0., 0.],\n",
       "       [0., 1., 0., 0.],\n",
       "       [0., 0., 1., 0.]])"
      ]
     },
     "execution_count": 77,
     "metadata": {},
     "output_type": "execute_result"
    }
   ],
   "source": [
    "np.eye(3,4)"
   ]
  },
  {
   "cell_type": "code",
   "execution_count": 78,
   "id": "a6c01777",
   "metadata": {},
   "outputs": [
    {
     "data": {
      "text/plain": [
       "array([0.37134957, 0.15710141, 0.41896859, 0.48190115, 0.42093282,\n",
       "       0.98993109, 0.81406051, 0.89737972, 0.11877298, 0.1928206 ])"
      ]
     },
     "execution_count": 78,
     "metadata": {},
     "output_type": "execute_result"
    }
   ],
   "source": [
    "np.random.rand(10)"
   ]
  },
  {
   "cell_type": "code",
   "execution_count": 79,
   "id": "d530e35c",
   "metadata": {},
   "outputs": [],
   "source": [
    "b=np.random.randint(4,10)"
   ]
  },
  {
   "cell_type": "code",
   "execution_count": 80,
   "id": "f6ed6538",
   "metadata": {},
   "outputs": [
    {
     "data": {
      "text/plain": [
       "array([[6, 2, 7, 8],\n",
       "       [2, 7, 3, 9],\n",
       "       [1, 7, 5, 2],\n",
       "       [1, 6, 3, 5]])"
      ]
     },
     "execution_count": 80,
     "metadata": {},
     "output_type": "execute_result"
    }
   ],
   "source": [
    "np.random.randint(10,size=(4,4))"
   ]
  },
  {
   "cell_type": "code",
   "execution_count": 81,
   "id": "85538f4d",
   "metadata": {},
   "outputs": [
    {
     "data": {
      "text/plain": [
       "array([ 9, 10, 11, 12, 13, 14, 15, 16, 17, 18, 19, 20, 21, 22, 23, 24, 25,\n",
       "       26, 27, 28, 29, 30, 31, 32, 33, 34, 35, 36, 37, 38, 39, 40, 41, 42,\n",
       "       43, 44, 45, 46, 47, 48, 49])"
      ]
     },
     "execution_count": 81,
     "metadata": {},
     "output_type": "execute_result"
    }
   ],
   "source": [
    "np.arange(9,50)"
   ]
  },
  {
   "cell_type": "code",
   "execution_count": 82,
   "id": "9b146325",
   "metadata": {},
   "outputs": [
    {
     "data": {
      "text/plain": [
       "array([[1., 0., 0., 0., 0., 0.],\n",
       "       [0., 1., 0., 0., 0., 0.],\n",
       "       [0., 0., 1., 0., 0., 0.],\n",
       "       [0., 0., 0., 1., 0., 0.],\n",
       "       [0., 0., 0., 0., 1., 0.]])"
      ]
     },
     "execution_count": 82,
     "metadata": {},
     "output_type": "execute_result"
    }
   ],
   "source": [
    "np.eye(5,6)"
   ]
  },
  {
   "cell_type": "code",
   "execution_count": 83,
   "id": "6e54b74a",
   "metadata": {},
   "outputs": [
    {
     "data": {
      "text/plain": [
       "array([1.  , 1.44, 1.89, 2.33, 2.78, 3.22, 3.67, 4.11, 4.56, 5.  ])"
      ]
     },
     "execution_count": 83,
     "metadata": {},
     "output_type": "execute_result"
    }
   ],
   "source": [
    "np.linspace(1,5,10).round(2)"
   ]
  },
  {
   "cell_type": "code",
   "execution_count": 84,
   "id": "5aab1870",
   "metadata": {},
   "outputs": [],
   "source": [
    "b=np.random.randint(10,size=(5,4))"
   ]
  },
  {
   "cell_type": "code",
   "execution_count": 85,
   "id": "745ff198",
   "metadata": {},
   "outputs": [
    {
     "name": "stdout",
     "output_type": "stream",
     "text": [
      "[[7 0 1 0]\n",
      " [8 5 2 6]\n",
      " [8 8 4 0]\n",
      " [5 9 0 3]\n",
      " [0 1 0 1]]\n"
     ]
    }
   ],
   "source": [
    "print(b)"
   ]
  },
  {
   "cell_type": "code",
   "execution_count": 86,
   "id": "9fa2c30a",
   "metadata": {},
   "outputs": [
    {
     "data": {
      "text/plain": [
       "array([0, 6, 0, 3])"
      ]
     },
     "execution_count": 86,
     "metadata": {},
     "output_type": "execute_result"
    }
   ],
   "source": [
    "b[0:4,3]"
   ]
  },
  {
   "cell_type": "code",
   "execution_count": 87,
   "id": "74ef6979",
   "metadata": {},
   "outputs": [
    {
     "data": {
      "text/plain": [
       "array([[8, 4],\n",
       "       [9, 0],\n",
       "       [1, 0]])"
      ]
     },
     "execution_count": 87,
     "metadata": {},
     "output_type": "execute_result"
    }
   ],
   "source": [
    "b[2:,1:3]"
   ]
  },
  {
   "cell_type": "code",
   "execution_count": 94,
   "id": "92116cd5",
   "metadata": {},
   "outputs": [
    {
     "name": "stdout",
     "output_type": "stream",
     "text": [
      "[[ 1  2  3  4  5]\n",
      " [ 6  7  8  9 10]\n",
      " [11 12 13 14 15]\n",
      " [16 17 18 19 20]]\n"
     ]
    }
   ],
   "source": [
    "b=np.arange(1,21).reshape((4,5))\n",
    "print(b)"
   ]
  },
  {
   "cell_type": "code",
   "execution_count": 89,
   "id": "cfdfdc70",
   "metadata": {},
   "outputs": [
    {
     "data": {
      "text/plain": [
       "array([11, 12, 13])"
      ]
     },
     "execution_count": 89,
     "metadata": {},
     "output_type": "execute_result"
    }
   ],
   "source": [
    "b[2][0:3]"
   ]
  },
  {
   "cell_type": "code",
   "execution_count": 59,
   "id": "28390a66",
   "metadata": {},
   "outputs": [
    {
     "data": {
      "text/plain": [
       "array([ 9, 14, 19])"
      ]
     },
     "execution_count": 59,
     "metadata": {},
     "output_type": "execute_result"
    }
   ],
   "source": [
    "b[1:,3]"
   ]
  },
  {
   "cell_type": "code",
   "execution_count": 60,
   "id": "3d566dc4",
   "metadata": {},
   "outputs": [
    {
     "data": {
      "text/plain": [
       "array([[11, 12, 13, 14, 15],\n",
       "       [16, 17, 18, 19, 20]])"
      ]
     },
     "execution_count": 60,
     "metadata": {},
     "output_type": "execute_result"
    }
   ],
   "source": [
    "b[2:]"
   ]
  },
  {
   "cell_type": "code",
   "execution_count": 90,
   "id": "987df45f",
   "metadata": {
    "scrolled": true
   },
   "outputs": [
    {
     "data": {
      "text/plain": [
       "array([[ 7,  8],\n",
       "       [12, 13]])"
      ]
     },
     "execution_count": 90,
     "metadata": {},
     "output_type": "execute_result"
    }
   ],
   "source": [
    "b[1:3,1:3]"
   ]
  },
  {
   "cell_type": "code",
   "execution_count": 91,
   "id": "b68ad91e",
   "metadata": {},
   "outputs": [
    {
     "data": {
      "text/plain": [
       "(array([2, 3, 5], dtype=int64),)"
      ]
     },
     "execution_count": 91,
     "metadata": {},
     "output_type": "execute_result"
    }
   ],
   "source": [
    "b=np.array([1,2,0,0,4,0])\n",
    "np.where(b==0)"
   ]
  },
  {
   "cell_type": "code",
   "execution_count": 98,
   "id": "0d43be78",
   "metadata": {},
   "outputs": [
    {
     "name": "stdout",
     "output_type": "stream",
     "text": [
      "[ 1  3  5  7  9 11 13 15 17 19]\n",
      "index of b%3==0 (array([1, 4, 7], dtype=int64),)\n"
     ]
    }
   ],
   "source": [
    "b=np.arange(1,20,step=2)\n",
    "print(b)\n",
    "print('index of b%3==0',np.where(b%3==0))"
   ]
  },
  {
   "cell_type": "code",
   "execution_count": 100,
   "id": "a0cd058d",
   "metadata": {},
   "outputs": [
    {
     "name": "stdout",
     "output_type": "stream",
     "text": [
      "[ 1  2  3  4  5  6  7  8  9 10]\n",
      "[ 0  2  2  4  4  6  6  8  8 10]\n"
     ]
    }
   ],
   "source": [
    "b=np.arange(1,11)\n",
    "print(b)\n",
    "b[np.where(b%2!=0)]-=1\n",
    "print(b)"
   ]
  },
  {
   "cell_type": "code",
   "execution_count": 138,
   "id": "e9e4b5ac",
   "metadata": {},
   "outputs": [],
   "source": [
    "b=np.arange(11,20)\n",
    "b[np.where(b%2==0)]=range(2,9,2)"
   ]
  },
  {
   "cell_type": "code",
   "execution_count": 139,
   "id": "3702672c",
   "metadata": {},
   "outputs": [
    {
     "name": "stdout",
     "output_type": "stream",
     "text": [
      "[11  2 13  4 15  6 17  8 19]\n"
     ]
    }
   ],
   "source": [
    "print(b)"
   ]
  },
  {
   "cell_type": "code",
   "execution_count": 140,
   "id": "c29d5d1f",
   "metadata": {},
   "outputs": [
    {
     "name": "stdout",
     "output_type": "stream",
     "text": [
      "[11  2 13  4 15  6 17  8  0]\n"
     ]
    }
   ],
   "source": [
    "b[b.argmax()]=0\n",
    "print(b)"
   ]
  },
  {
   "cell_type": "code",
   "execution_count": 3,
   "id": "300494dd",
   "metadata": {},
   "outputs": [
    {
     "name": "stdout",
     "output_type": "stream",
     "text": [
      "[ 1  2  3 -4 -5 -6 -7  8  9 10]\n"
     ]
    }
   ],
   "source": [
    "b=np.arange(1,11)\n",
    "b[np.where(np.logical_and(3<b,b<8))]*=-1\n",
    "print(b)"
   ]
  },
  {
   "cell_type": "code",
   "execution_count": 148,
   "id": "16e3ac4a",
   "metadata": {},
   "outputs": [
    {
     "name": "stdout",
     "output_type": "stream",
     "text": [
      "['Nikhil' 'Deepak' 'Khushal']\n"
     ]
    }
   ],
   "source": [
    "a=np.array((\"Mihir\",\"Nikhil\",\"Deepak\",\"Khushal\"))\n",
    "b=np.array((150,170,160,168))\n",
    "print(a[np.where(b>155)])"
   ]
  },
  {
   "cell_type": "code",
   "execution_count": 169,
   "id": "e5299482",
   "metadata": {},
   "outputs": [
    {
     "name": "stdout",
     "output_type": "stream",
     "text": [
      "[[21 20 19 18 17]\n",
      " [16 15 14 13 12]\n",
      " [11 10  9  8  7]\n",
      " [ 6  5  4  3  2]]\n",
      "[3 2 1 0]\n",
      "[[ 6  5  4  3  2]\n",
      " [11 10  9  8  7]\n",
      " [16 15 14 13 12]\n",
      " [21 20 19 18 17]]\n"
     ]
    }
   ],
   "source": [
    "b=np.arange(21,1,-1).reshape(4,5)\n",
    "print(b)\n",
    "print(b[:,0].argsort())\n",
    "b = b[b[:,0].argsort()]\n",
    "print(b)\n"
   ]
  },
  {
   "cell_type": "code",
   "execution_count": null,
   "id": "df443ee3",
   "metadata": {},
   "outputs": [],
   "source": []
  },
  {
   "cell_type": "code",
   "execution_count": null,
   "id": "0045bef7",
   "metadata": {},
   "outputs": [],
   "source": [
    "\n",
    "    "
   ]
  },
  {
   "cell_type": "code",
   "execution_count": null,
   "id": "e391ebf9",
   "metadata": {},
   "outputs": [],
   "source": []
  }
 ],
 "metadata": {
  "kernelspec": {
   "display_name": "Python 3",
   "language": "python",
   "name": "python3"
  },
  "language_info": {
   "codemirror_mode": {
    "name": "ipython",
    "version": 3
   },
   "file_extension": ".py",
   "mimetype": "text/x-python",
   "name": "python",
   "nbconvert_exporter": "python",
   "pygments_lexer": "ipython3",
   "version": "3.10.6"
  },
  "vscode": {
   "interpreter": {
    "hash": "1c697d69f927956c0f87158e03f309f8069fc71ae87cd648e9b5b7140a5374b5"
   }
  }
 },
 "nbformat": 4,
 "nbformat_minor": 5
}
