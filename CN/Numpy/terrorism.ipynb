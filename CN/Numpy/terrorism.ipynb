{
 "cells": [
  {
   "cell_type": "code",
   "execution_count": 54,
   "id": "e5788dfd",
   "metadata": {},
   "outputs": [],
   "source": [
    "import csv\n",
    "country=[]\n",
    "killed=[]\n",
    "day=[]\n",
    "month=[]\n",
    "year=[]\n",
    "city=[]\n",
    "with open('terrorismData.csv',encoding='utf-8') as csvfile:\n",
    "    reader = csv.DictReader(csvfile)\n",
    "    for row in reader:\n",
    "        day.append(row['Day'])\n",
    "        city.append(row['City'])\n",
    "        month.append(row['Month'])\n",
    "        year.append(row['Year'])\n",
    "        country.append(row['Country'])\n",
    "        killed.append(row['Killed'])"
   ]
  },
  {
   "cell_type": "code",
   "execution_count": 46,
   "id": "821dc9da",
   "metadata": {},
   "outputs": [],
   "source": [
    "import numpy as np"
   ]
  },
  {
   "cell_type": "code",
   "execution_count": 47,
   "id": "9e211249",
   "metadata": {},
   "outputs": [],
   "source": [
    "np_country=np.array(country)"
   ]
  },
  {
   "cell_type": "code",
   "execution_count": 48,
   "id": "45f94f68",
   "metadata": {},
   "outputs": [],
   "source": [
    "np_killed=np.array(killed)"
   ]
  },
  {
   "cell_type": "code",
   "execution_count": 49,
   "id": "720bf2f8",
   "metadata": {},
   "outputs": [],
   "source": [
    "np_killed[np_killed==\"\"]=\"0.0\""
   ]
  },
  {
   "cell_type": "code",
   "execution_count": 50,
   "id": "0b98c2fa",
   "metadata": {},
   "outputs": [],
   "source": [
    "np_killed=np.array(np_killed,dtype=float)"
   ]
  },
  {
   "cell_type": "code",
   "execution_count": 51,
   "id": "a4357227",
   "metadata": {},
   "outputs": [],
   "source": [
    "np_killed=np.array(np_killed,dtype=int)"
   ]
  },
  {
   "cell_type": "code",
   "execution_count": 33,
   "id": "53e34cb6",
   "metadata": {},
   "outputs": [],
   "source": [
    "np_killed=np_killed[np.where(np_country==\"United States\")]"
   ]
  },
  {
   "cell_type": "code",
   "execution_count": 34,
   "id": "b5edbf2c",
   "metadata": {},
   "outputs": [],
   "source": [
    "np_day=np.array(day)\n"
   ]
  },
  {
   "cell_type": "code",
   "execution_count": 35,
   "id": "f3aa3c63",
   "metadata": {},
   "outputs": [],
   "source": [
    "np_day=np.array(np_day,dtype=int)"
   ]
  },
  {
   "cell_type": "code",
   "execution_count": 36,
   "id": "097cae78",
   "metadata": {},
   "outputs": [],
   "source": [
    "np_day_btwn_10_20=np_day[np.where(np.logical_and(np_day>=10,np_day<=20))]"
   ]
  },
  {
   "cell_type": "code",
   "execution_count": 37,
   "id": "02516783",
   "metadata": {},
   "outputs": [
    {
     "data": {
      "text/plain": [
       "66330"
      ]
     },
     "execution_count": 37,
     "metadata": {},
     "output_type": "execute_result"
    }
   ],
   "source": [
    "len(np_day_btwn_10_20)"
   ]
  },
  {
   "cell_type": "code",
   "execution_count": 40,
   "id": "f6fcc131",
   "metadata": {},
   "outputs": [],
   "source": [
    "np_month=np.array(month,dtype=int)\n",
    "np_year=np.array(year,dtype=int)"
   ]
  },
  {
   "cell_type": "code",
   "execution_count": 43,
   "id": "d784e47b",
   "metadata": {},
   "outputs": [],
   "source": [
    "np_day_btwn_1_31_jan_2010=np_day[np.where(np.logical_and(np_month==1,np_year==2010,np_day!=0))]"
   ]
  },
  {
   "cell_type": "code",
   "execution_count": 44,
   "id": "75e694ea",
   "metadata": {},
   "outputs": [
    {
     "data": {
      "text/plain": [
       "278"
      ]
     },
     "execution_count": 44,
     "metadata": {},
     "output_type": "execute_result"
    }
   ],
   "source": [
    "len(np_day_btwn_1_31_jan_2010)"
   ]
  },
  {
   "cell_type": "code",
   "execution_count": 52,
   "id": "00e6e19a",
   "metadata": {},
   "outputs": [],
   "source": []
  },
  {
   "cell_type": "code",
   "execution_count": 53,
   "id": "5d1e4767",
   "metadata": {},
   "outputs": [
    {
     "name": "stdout",
     "output_type": "stream",
     "text": [
      "12 6 2014 Iraq 1570\n"
     ]
    }
   ],
   "source": [
    "print(np_day[idx],np_month[idx],np_year[idx],np_country[idx],np_killed[idx])"
   ]
  },
  {
   "cell_type": "code",
   "execution_count": null,
   "id": "2f7907be",
   "metadata": {},
   "outputs": [],
   "source": []
  }
 ],
 "metadata": {
  "kernelspec": {
   "display_name": "Python 3 (ipykernel)",
   "language": "python",
   "name": "python3"
  },
  "language_info": {
   "codemirror_mode": {
    "name": "ipython",
    "version": 3
   },
   "file_extension": ".py",
   "mimetype": "text/x-python",
   "name": "python",
   "nbconvert_exporter": "python",
   "pygments_lexer": "ipython3",
   "version": "3.10.6"
  },
  "vscode": {
   "interpreter": {
    "hash": "1c697d69f927956c0f87158e03f309f8069fc71ae87cd648e9b5b7140a5374b5"
   }
  }
 },
 "nbformat": 4,
 "nbformat_minor": 5
}
